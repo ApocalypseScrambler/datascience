{
 "cells": [
  {
   "cell_type": "markdown",
   "metadata": {},
   "source": [
    "# Nuevas Variables"
   ]
  },
  {
   "cell_type": "code",
   "execution_count": null,
   "metadata": {},
   "outputs": [],
   "source": [
    "\n",
    "\n",
    "# Nueva variable profit o rentabilidad de cada película\n",
    "df_movies['profit'] = df_movies['revenue'] - df_movies['budget']\n",
    "\n",
    "# Nueva variable season o temporada, en base a la fecha de lanzamiento de la pelicula determinamos a que temporada pertenece (temporadas USA)\n",
    "def get_season(date):\n",
    "    if (date.month == 3 and date.day >= 20) or (date.month in [4, 5]) or (date.month == 6 and date.day < 21):\n",
    "        return 'spring'\n",
    "    elif (date.month == 6 and date.day >= 21) or (date.month in [7, 8]) or (date.month == 9 and date.day < 22):\n",
    "        return 'summer'\n",
    "    elif (date.month == 9 and date.day >= 22) or (date.month in [10, 11]) or (date.month == 12 and date.day < 21):\n",
    "        return 'autumn'\n",
    "    else:\n",
    "        return 'winter'\n",
    "\n",
    "# Aplicar la función a la columna 'release_date' para obtener la estación del año\n",
    "df_movies['season'] = df_movies['release_date'].apply(get_season)\n",
    "\n",
    "df_movies[['original_title','weighted_average','profit','season']].head()"
   ]
  },
  {
   "cell_type": "code",
   "execution_count": null,
   "metadata": {},
   "outputs": [],
   "source": []
  }
 ],
 "metadata": {
  "language_info": {
   "name": "python"
  },
  "orig_nbformat": 4
 },
 "nbformat": 4,
 "nbformat_minor": 2
}
